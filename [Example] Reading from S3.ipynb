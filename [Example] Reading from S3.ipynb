{
 "nbformat": 4,
 "nbformat_minor": 0,
 "metadata": {
  "colab": {
   "name": "[Example] Reading from S3 via Colab.ipynb",
   "provenance": [
    {
     "file_id": "1c1tMVxd6EVdYpaGAta4O16qLeWu4Z2pS",
     "timestamp": 1629355437068
    },
    {
     "file_id": "1XjIzbi-Cwe0AMU1VEJY3gJJMHXSrfrhK",
     "timestamp": 1620310308256
    }
   ],
   "collapsed_sections": []
  },
  "kernelspec": {
   "name": "python3",
   "display_name": "Python 3"
  },
  "language_info": {
   "name": "python"
  }
 },
 "cells": [
  {
   "cell_type": "code",
   "metadata": {
    "id": "rptHHdCHj6dz",
    "colab": {
     "base_uri": "https://localhost:8080/"
    },
    "executionInfo": {
     "status": "ok",
     "timestamp": 1629355580876,
     "user_tz": 240,
     "elapsed": 3177,
     "user": {
      "displayName": "Pawarit Laosunthara",
      "photoUrl": "https://lh3.googleusercontent.com/a-/AOh14GhxQngaj3MLHkwwk_83CbG-wVUIkRAYoVlJGNMs=s64",
      "userId": "09827210288728277585"
     }
    },
    "outputId": "0105bc82-0710-4f02-c6c0-4e2d66bc2528"
   },
   "source": [
    "!pip install pandas==1.2 s3fs plotly scikit-learn==0.24.2"
   ],
   "execution_count": null,
   "outputs": [
    {
     "output_type": "stream",
     "text": [
      "Requirement already satisfied: pandas==1.2 in /usr/local/lib/python3.7/dist-packages (1.2.0)\n",
      "Requirement already satisfied: s3fs in /usr/local/lib/python3.7/dist-packages (2021.7.0)\n",
      "Requirement already satisfied: plotly in /usr/local/lib/python3.7/dist-packages (4.4.1)\n",
      "Requirement already satisfied: scikit-learn==0.24.2 in /usr/local/lib/python3.7/dist-packages (0.24.2)\n",
      "Requirement already satisfied: numpy>=1.16.5 in /usr/local/lib/python3.7/dist-packages (from pandas==1.2) (1.19.5)\n",
      "Requirement already satisfied: pytz>=2017.3 in /usr/local/lib/python3.7/dist-packages (from pandas==1.2) (2018.9)\n",
      "Requirement already satisfied: python-dateutil>=2.7.3 in /usr/local/lib/python3.7/dist-packages (from pandas==1.2) (2.8.2)\n",
      "Requirement already satisfied: threadpoolctl>=2.0.0 in /usr/local/lib/python3.7/dist-packages (from scikit-learn==0.24.2) (2.2.0)\n",
      "Requirement already satisfied: scipy>=0.19.1 in /usr/local/lib/python3.7/dist-packages (from scikit-learn==0.24.2) (1.4.1)\n",
      "Requirement already satisfied: joblib>=0.11 in /usr/local/lib/python3.7/dist-packages (from scikit-learn==0.24.2) (1.0.1)\n",
      "Requirement already satisfied: six>=1.5 in /usr/local/lib/python3.7/dist-packages (from python-dateutil>=2.7.3->pandas==1.2) (1.15.0)\n",
      "Requirement already satisfied: aiobotocore>=1.0.1 in /usr/local/lib/python3.7/dist-packages (from s3fs) (1.3.3)\n",
      "Requirement already satisfied: fsspec==2021.07.0 in /usr/local/lib/python3.7/dist-packages (from s3fs) (2021.7.0)\n",
      "Requirement already satisfied: wrapt>=1.10.10 in /usr/local/lib/python3.7/dist-packages (from aiobotocore>=1.0.1->s3fs) (1.12.1)\n",
      "Requirement already satisfied: botocore<1.20.107,>=1.20.106 in /usr/local/lib/python3.7/dist-packages (from aiobotocore>=1.0.1->s3fs) (1.20.106)\n",
      "Requirement already satisfied: aioitertools>=0.5.1 in /usr/local/lib/python3.7/dist-packages (from aiobotocore>=1.0.1->s3fs) (0.8.0)\n",
      "Requirement already satisfied: aiohttp>=3.3.1 in /usr/local/lib/python3.7/dist-packages (from aiobotocore>=1.0.1->s3fs) (3.7.4.post0)\n",
      "Requirement already satisfied: multidict<7.0,>=4.5 in /usr/local/lib/python3.7/dist-packages (from aiohttp>=3.3.1->aiobotocore>=1.0.1->s3fs) (5.1.0)\n",
      "Requirement already satisfied: chardet<5.0,>=2.0 in /usr/local/lib/python3.7/dist-packages (from aiohttp>=3.3.1->aiobotocore>=1.0.1->s3fs) (3.0.4)\n",
      "Requirement already satisfied: typing-extensions>=3.6.5 in /usr/local/lib/python3.7/dist-packages (from aiohttp>=3.3.1->aiobotocore>=1.0.1->s3fs) (3.7.4.3)\n",
      "Requirement already satisfied: attrs>=17.3.0 in /usr/local/lib/python3.7/dist-packages (from aiohttp>=3.3.1->aiobotocore>=1.0.1->s3fs) (21.2.0)\n",
      "Requirement already satisfied: yarl<2.0,>=1.0 in /usr/local/lib/python3.7/dist-packages (from aiohttp>=3.3.1->aiobotocore>=1.0.1->s3fs) (1.6.3)\n",
      "Requirement already satisfied: async-timeout<4.0,>=3.0 in /usr/local/lib/python3.7/dist-packages (from aiohttp>=3.3.1->aiobotocore>=1.0.1->s3fs) (3.0.1)\n",
      "Requirement already satisfied: jmespath<1.0.0,>=0.7.1 in /usr/local/lib/python3.7/dist-packages (from botocore<1.20.107,>=1.20.106->aiobotocore>=1.0.1->s3fs) (0.10.0)\n",
      "Requirement already satisfied: urllib3<1.27,>=1.25.4 in /usr/local/lib/python3.7/dist-packages (from botocore<1.20.107,>=1.20.106->aiobotocore>=1.0.1->s3fs) (1.26.6)\n",
      "Requirement already satisfied: idna>=2.0 in /usr/local/lib/python3.7/dist-packages (from yarl<2.0,>=1.0->aiohttp>=3.3.1->aiobotocore>=1.0.1->s3fs) (2.10)\n",
      "Requirement already satisfied: retrying>=1.3.3 in /usr/local/lib/python3.7/dist-packages (from plotly) (1.3.3)\n"
     ],
     "name": "stdout"
    }
   ]
  },
  {
   "cell_type": "markdown",
   "metadata": {
    "id": "yEx9fxQCKKm6"
   },
   "source": [
    "### Don't forget to restart your Runtime then run the cell above, before running the cell below"
   ]
  },
  {
   "cell_type": "code",
   "metadata": {
    "id": "hqndCKh2kJaQ"
   },
   "source": [
    "import pandas as pd\n",
    "\n",
    "country_df = pd.read_parquet(\"s3://YOURBUCKET/data-transformation/CountryEmissionsVsTemperatures.parquet/\", storage_options={\"anon\": True})"
   ],
   "execution_count": null,
   "outputs": []
  },
  {
   "cell_type": "code",
   "metadata": {
    "id": "URqq2p63rmyM"
   },
   "source": [
    "import sklearn"
   ],
   "execution_count": null,
   "outputs": []
  },
  {
   "cell_type": "code",
   "metadata": {
    "colab": {
     "base_uri": "https://localhost:8080/"
    },
    "id": "K4J_M1Kyr5gA",
    "executionInfo": {
     "status": "ok",
     "timestamp": 1629355596891,
     "user_tz": 240,
     "elapsed": 5,
     "user": {
      "displayName": "Pawarit Laosunthara",
      "photoUrl": "https://lh3.googleusercontent.com/a-/AOh14GhxQngaj3MLHkwwk_83CbG-wVUIkRAYoVlJGNMs=s64",
      "userId": "09827210288728277585"
     }
    },
    "outputId": "87a68d28-4246-4bb5-8050-ca7ea087cc9a"
   },
   "source": [
    "country_df['Country'].unique()"
   ],
   "execution_count": null,
   "outputs": [
    {
     "output_type": "execute_result",
     "data": {
      "text/plain": [
       "array(['United Kingdom', 'Europe', 'Canada', 'North America', 'Germany',\n",
       "       'United States', 'Poland', 'Belgium', 'France', 'Austria',\n",
       "       'Norway', 'Kazakhstan', 'Ukraine', 'Georgia', 'Uzbekistan',\n",
       "       'Lithuania', 'Moldova', 'Belarus', 'Latvia', 'Estonia', 'Armenia',\n",
       "       'Hungary', 'Turkmenistan', 'Azerbaijan', 'Asia', 'Spain', 'Russia',\n",
       "       'Kyrgyzstan', 'Tajikistan', 'Sweden', 'Denmark', 'Netherlands',\n",
       "       'Ireland', 'Romania', 'Switzerland', 'India', 'Italy', 'Oceania',\n",
       "       'Finland', 'Australia', 'Slovakia', 'Turkey', 'Greece', 'Japan',\n",
       "       'Portugal', 'New Zealand', 'Bulgaria', 'South America', 'Peru',\n",
       "       'South Africa', 'Africa', 'Serbia', 'Montenegro', 'Slovenia',\n",
       "       'Croatia', 'Argentina', 'Indonesia', 'Malaysia', 'Mexico',\n",
       "       'Vietnam', 'Chile', 'Taiwan', 'China', 'Brazil', 'Zimbabwe',\n",
       "       'Venezuela', 'North Korea', 'South Korea', 'Iran', 'Philippines',\n",
       "       'Egypt', 'Nigeria', 'Tunisia', 'Algeria', 'Ecuador', 'Puerto Rico',\n",
       "       'Colombia', 'Aruba', 'Iraq', 'Mozambique', 'Morocco', 'Barbados',\n",
       "       'Bolivia', 'Israel', 'Lebanon', 'Thailand', 'Syria', 'Uruguay',\n",
       "       'Albania', 'Bahrain', 'Madagascar', 'Iceland', 'Saudi Arabia',\n",
       "       'Hong Kong', 'Eritrea', 'Ethiopia', 'Cuba', 'Guatemala',\n",
       "       'Nicaragua', 'Luxembourg', 'Pakistan', 'Bangladesh', 'Kuwait',\n",
       "       'Dominican Republic', 'Panama', 'Qatar', 'Afghanistan',\n",
       "       'Sri Lanka', 'Greenland', 'Honduras', 'Angola', 'Tanzania',\n",
       "       'New Caledonia', 'Haiti', 'Malta', 'Mongolia', 'Libya',\n",
       "       'Cape Verde', 'Singapore', 'Togo', 'Guyana', 'Cameroon',\n",
       "       'Djibouti', 'Malawi', 'Somalia', 'Ghana', 'Zambia', 'Mauritius',\n",
       "       'Paraguay', 'Samoa', 'Jordan', 'Papua New Guinea', 'Uganda',\n",
       "       'Gambia', 'El Salvador', 'Bahamas', 'Nepal', 'Grenada', 'Jamaica',\n",
       "       'Belize', 'Cyprus', 'Yemen', 'Burundi', 'Costa Rica', 'Liberia',\n",
       "       'Saint Lucia', 'Tonga', 'Rwanda', 'Sierra Leone', 'Sudan',\n",
       "       'Equatorial Guinea', 'Kenya', 'Suriname', 'Fiji', 'Dominica',\n",
       "       'Solomon Islands', 'French Polynesia', 'Laos', 'Cambodia', 'Niger',\n",
       "       'Burkina Faso', 'Senegal', 'Guinea', 'Benin', 'Gabon',\n",
       "       'Central African Republic', 'Congo', 'Mauritania', 'Comoros',\n",
       "       'Chad', 'United Arab Emirates', 'Mali', 'Kiribati',\n",
       "       'British Virgin Islands', 'Montserrat', 'Seychelles', 'Oman',\n",
       "       'Niue', 'Christmas Island', 'Bhutan', 'Botswana', 'Liechtenstein',\n",
       "       'Lesotho', 'Andorra', 'Anguilla', 'Namibia'], dtype=object)"
      ]
     },
     "metadata": {},
     "execution_count": 4
    }
   ]
  }
 ]
}